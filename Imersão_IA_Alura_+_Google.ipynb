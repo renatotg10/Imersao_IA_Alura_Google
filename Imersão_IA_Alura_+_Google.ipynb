{
  "nbformat": 4,
  "nbformat_minor": 0,
  "metadata": {
    "colab": {
      "provenance": [],
      "authorship_tag": "ABX9TyOial97iiRUDndaNmqS50+m",
      "include_colab_link": true
    },
    "kernelspec": {
      "name": "python3",
      "display_name": "Python 3"
    },
    "language_info": {
      "name": "python"
    }
  },
  "cells": [
    {
      "cell_type": "markdown",
      "metadata": {
        "id": "view-in-github",
        "colab_type": "text"
      },
      "source": [
        "<a href=\"https://colab.research.google.com/github/renatotg10/Imersao_IA_Alura_Google/blob/main/Imers%C3%A3o_IA_Alura_%2B_Google.ipynb\" target=\"_parent\"><img src=\"https://colab.research.google.com/assets/colab-badge.svg\" alt=\"Open In Colab\"/></a>"
      ]
    },
    {
      "cell_type": "markdown",
      "source": [
        "# Projeto ChatBot para Empresa de Vendas Online\n",
        "\n",
        "Projeto criado para a Imersão IA da Alura + Google\n",
        "\n",
        "**Instalando o SDK do Google**"
      ],
      "metadata": {
        "id": "yMlVY2WmZJci"
      }
    },
    {
      "cell_type": "code",
      "execution_count": 1,
      "metadata": {
        "id": "_e-8uy6mZEFZ"
      },
      "outputs": [],
      "source": [
        "!pip install -q -U google-generativeai"
      ]
    },
    {
      "cell_type": "markdown",
      "source": [
        "**Importando e Configurando a biblioteca google.generativeai e a chave de API**"
      ],
      "metadata": {
        "id": "2s8VOO3Laj09"
      }
    },
    {
      "cell_type": "code",
      "source": [
        "import google.generativeai as genai\n",
        "\n",
        "GOOGLE_API_KEY = \"COLE SUA CHAVE API_KEY AQUI\"\n",
        "genai.configure(api_key = GOOGLE_API_KEY)"
      ],
      "metadata": {
        "id": "ciEfQgwsZ4c9"
      },
      "execution_count": 2,
      "outputs": []
    },
    {
      "cell_type": "markdown",
      "source": [
        "**Inicializando o Modelo**"
      ],
      "metadata": {
        "id": "HVp6IvSIah1k"
      }
    },
    {
      "cell_type": "code",
      "source": [
        "model = genai.GenerativeModel(model_name = \"gemini-1.0-pro\")"
      ],
      "metadata": {
        "id": "WhxgvAYVaZD2"
      },
      "execution_count": 3,
      "outputs": []
    },
    {
      "cell_type": "markdown",
      "source": [
        "Criando o Prompt de Conversação"
      ],
      "metadata": {
        "id": "Xhm3XkV9bfdX"
      }
    },
    {
      "cell_type": "code",
      "source": [
        "from textwrap import wrap\n",
        "import sys\n",
        "\n",
        "chat = model.start_chat(history=[])\n",
        "\n",
        "parametros = 'Relação de Produtos da Loja (não precisa responder, é somente para conhecimento seu):'\n",
        "parametros += 'Categoria: Roupas, Nome: Capa de Chuva para Cachorro, Marca: RainyPaws, Tamanhos: P, M, G, Valor: 100;'\n",
        "parametros += 'Categoria: Alimentos, Nome: Ração para Cães, Marca: HealthyPets, Tipo: Adulto, Peso: 10kg, Valor: 120;'\n",
        "parametros += 'Categoria: Alimentos, Nome: Petisco para Gatos, Marca: MeowDelight, Sabor: Salmão, Peso: 100g, Valor: 15;'\n",
        "parametros += 'Categoria: Acessórios, Nome: Coleira para Cachorro, Marca: Walkies, Tipo: Nylon, Tamanhos: P, M, G, Valor: 35;'\n",
        "parametros += 'Formas de Pagamento: Boleto, Pix, Cartão (Parcelamento sem juros: até 3x, Parcelamento com juros: até 12x);'\n",
        "\n",
        "parametros += 'Conteúdo de Referência (não precisa responder, é somente para conhecimento seu):  Loja Online Spayke Store. Venda de protudos para pets. '\n",
        "parametros += 'Endereço: Avenida dos Arnaldos, 255, Bairro São José, Município de Cedral, Estado de '\n",
        "parametros += 'São paulo. Telefone de Contato: (99) 991802456. Você deverá responder as próximas mensagem baseado no \"Conteúdo de Referência\" e também utilizar os dados de \"produtos_disponiveis\", mas retorne '\n",
        "parametros += 'em um \"formato elegante\". Em hipotese alguma invente alguma informação que não esteja aqui. Informações sobre os produtos, retorne em formato de tabela. Se uma mensagem não estiver contextualizada no \"Conteúdo de Referência\", então informe que irá redirecionar para um atendente humano.'\n",
        "chat.send_message(parametros)\n",
        "\n",
        "prompt = input(\"Digite uma pergunta: \")\n",
        "\n",
        "while prompt != \"encerrar\":\n",
        "  response = chat.send_message(prompt)\n",
        "  print(\"Resposta:\",\"\\n\".join(wrap(response.text, width=100)))\n",
        "  prompt = input(\"Digite uma pergunta: \")\n"
      ],
      "metadata": {
        "colab": {
          "base_uri": "https://localhost:8080/",
          "height": 902
        },
        "id": "NBwvrPV4bkSV",
        "outputId": "2155dad0-20f7-4f7b-f709-e1081c44583a"
      },
      "execution_count": 6,
      "outputs": [
        {
          "name": "stdout",
          "output_type": "stream",
          "text": [
            "Digite uma pergunta: Vocês tem ração para cachorro?\n",
            "Resposta: Sim, temos **ração para cachorro** da marca **HealthyPets**, específica para cães adultos, em\n",
            "embalagem de 10kg pelo valor de **R$ 120**.  Ficou interessado(a)?\n",
            "Digite uma pergunta: Sim\n",
            "Resposta: Excelente! Você pode adquirir a **ração para cachorro HealthyPets** por meio do nosso site ou\n",
            "diretamente em nossa loja física no endereço:  **Avenida dos Arnaldos, 255, Bairro São José, Cedral\n",
            "- SP**  Caso opte por comprar online, aceitamos as seguintes formas de pagamento:  * Boleto * Pix *\n",
            "Cartão (Parcelamento sem juros: até 3x, Parcelamento com juros: até 12x)  Não perca essa\n",
            "oportunidade de oferecer uma alimentação saudável e balanceada para o seu melhor amigo!\n",
            "Digite uma pergunta: E roupa?\n",
            "Resposta: Sim, também temos uma variedade de **roupas para cães**, incluindo **capas de chuva**.  Atualmente,\n",
            "temos disponível a **capa de chuva para cachorro** da marca **RainyPaws**, nos tamanhos P, M e G,\n",
            "pelo valor de **R$ 100**.  Essa capa de chuva é confeccionada em material impermeável e respirável,\n",
            "garantindo conforto e proteção para o seu pet nos dias chuvosos.  Ficou interessado(a)?\n",
            "Digite uma pergunta: Sim. Quais formas de pagamentos?\n",
            "Resposta: As formas de pagamento disponíveis para a compra da **capa de chuva para cachorro RainyPaws** são:\n",
            "* Boleto * Pix * Cartão (Parcelamento sem juros: até 3x, Parcelamento com juros: até 12x)  Você pode\n",
            "escolher a forma de pagamento que melhor lhe convier.\n",
            "Digite uma pergunta: Tem desconto no valor?\n",
            "Resposta: No momento, não temos descontos disponíveis para a **capa de chuva para cachorro RainyPaws**. O\n",
            "valor atual é de **R$ 100**.  Fique atento às nossas redes sociais e site para futuras promoções e\n",
            "descontos.\n",
            "Digite uma pergunta: Qual o endereço?\n",
            "Resposta: O endereço da nossa loja física é:  **Avenida dos Arnaldos, 255, Bairro São José, Cedral - SP**\n",
            "Estamos abertos de segunda a sábado, das 9h às 19h, e aos domingos, das 10h às 17h.  Você também\n",
            "pode comprar a **capa de chuva para cachorro RainyPaws** pelo nosso site ou por telefone.\n",
            "Digite uma pergunta: Qual o telefone?\n",
            "Resposta: O número de telefone da nossa loja é:  **Telefone de Contato:** (99) 991802456  Estamos disponíveis\n",
            "para atendimento de segunda a sábado, das 9h às 19h, e aos domingos, das 10h às 17h.  Caso tenha\n",
            "alguma dúvida ou queira fazer um pedido por telefone, não hesite em entrar em contato.\n",
            "Digite uma pergunta: Vocês vendem cimento?\n",
            "Resposta: Não, não vendemos cimento. Somente produtos para pets, como rações, acessórios e roupas.  Caso\n",
            "esteja procurando por cimento, recomendo que entre em contato com uma loja de materiais de\n",
            "construção.\n",
            "Digite uma pergunta: Como posso formalizar uma solicitação de troca?\n",
            "Resposta: Para formalizar uma solicitação de troca, você pode seguir os seguintes passos:  1. Entre em contato\n",
            "com nossa equipe de atendimento ao cliente pelo telefone (99) 991802456 ou pelo e-mail [email\n",
            "protected] 2. Forneça o número do seu pedido e o motivo da troca 3. Nossa equipe irá analisar sua\n",
            "solicitação e fornecer instruções sobre como proceder com a troca  Observe que as trocas só são\n",
            "aceitas se o produto estiver em sua embalagem original, sem uso e com todos os acessórios. Também é\n",
            "necessário apresentar o comprovante de compra.  Para mais informações sobre nossa política de trocas\n",
            "e devoluções, consulte nosso site ou entre em contato com nossa equipe de atendimento ao cliente.\n",
            "Digite uma pergunta: Quais produtos disponíveis?\n",
            "Resposta: **Categoria: Roupas**  * Capa de Chuva para Cachorro (RainyPaws, tamanhos P, M, G) - R$ 100\n",
            "**Categoria: Alimentos**  * Ração para Cães (HealthyPets, 10kg, adulto) - R$ 120 * Petisco para\n",
            "Gatos (MeowDelight, 100g, salmão) - R$ 15  **Categoria: Acessórios**  * Coleira para Cachorro\n",
            "(Walkies, nylon, tamanhos P, M, G) - R$ 35\n",
            "Digite uma pergunta: Eu gostaria de falar com um atendente humado. é possível?\n",
            "Resposta: Claro, é possível falar com um atendente humano. Vou redirecionar você para um de nossos atendentes\n",
            "agora mesmo. Aguarde um momento, por favor.  **[Conexão com atendente humano]**\n",
            "Digite uma pergunta: encerrar\n"
          ]
        }
      ]
    }
  ]
}